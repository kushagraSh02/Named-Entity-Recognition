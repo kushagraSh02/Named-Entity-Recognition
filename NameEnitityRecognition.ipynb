{
 "cells": [
  {
   "cell_type": "markdown",
   "metadata": {
    "id": "XdGVqprbbJ-g"
   },
   "source": [
    "# Named Entity Recognition with Python"
   ]
  },
  {
   "cell_type": "markdown",
   "metadata": {},
   "source": [
    "## Preprocessing "
   ]
  },
  {
   "cell_type": "code",
   "execution_count": 1,
   "metadata": {},
   "outputs": [
    {
     "data": {
      "text/html": [
       "<div>\n",
       "<style scoped>\n",
       "    .dataframe tbody tr th:only-of-type {\n",
       "        vertical-align: middle;\n",
       "    }\n",
       "\n",
       "    .dataframe tbody tr th {\n",
       "        vertical-align: top;\n",
       "    }\n",
       "\n",
       "    .dataframe thead th {\n",
       "        text-align: right;\n",
       "    }\n",
       "</style>\n",
       "<table border=\"1\" class=\"dataframe\">\n",
       "  <thead>\n",
       "    <tr style=\"text-align: right;\">\n",
       "      <th></th>\n",
       "      <th>Unnamed: 0</th>\n",
       "      <th>Sentence #</th>\n",
       "      <th>Word</th>\n",
       "      <th>POS</th>\n",
       "      <th>Tag</th>\n",
       "    </tr>\n",
       "  </thead>\n",
       "  <tbody>\n",
       "    <tr>\n",
       "      <th>0</th>\n",
       "      <td>0</td>\n",
       "      <td>Sentence: 1</td>\n",
       "      <td>Thousands</td>\n",
       "      <td>NNS</td>\n",
       "      <td>O</td>\n",
       "    </tr>\n",
       "    <tr>\n",
       "      <th>1</th>\n",
       "      <td>1</td>\n",
       "      <td>NaN</td>\n",
       "      <td>of</td>\n",
       "      <td>IN</td>\n",
       "      <td>O</td>\n",
       "    </tr>\n",
       "    <tr>\n",
       "      <th>2</th>\n",
       "      <td>2</td>\n",
       "      <td>NaN</td>\n",
       "      <td>demonstrators</td>\n",
       "      <td>NNS</td>\n",
       "      <td>O</td>\n",
       "    </tr>\n",
       "    <tr>\n",
       "      <th>3</th>\n",
       "      <td>3</td>\n",
       "      <td>NaN</td>\n",
       "      <td>have</td>\n",
       "      <td>VBP</td>\n",
       "      <td>O</td>\n",
       "    </tr>\n",
       "    <tr>\n",
       "      <th>4</th>\n",
       "      <td>4</td>\n",
       "      <td>NaN</td>\n",
       "      <td>marched</td>\n",
       "      <td>VBN</td>\n",
       "      <td>O</td>\n",
       "    </tr>\n",
       "  </tbody>\n",
       "</table>\n",
       "</div>"
      ],
      "text/plain": [
       "   Unnamed: 0   Sentence #           Word  POS Tag\n",
       "0           0  Sentence: 1      Thousands  NNS   O\n",
       "1           1          NaN             of   IN   O\n",
       "2           2          NaN  demonstrators  NNS   O\n",
       "3           3          NaN           have  VBP   O\n",
       "4           4          NaN        marched  VBN   O"
      ]
     },
     "execution_count": 1,
     "metadata": {},
     "output_type": "execute_result"
    }
   ],
   "source": [
    "import tensorflow as tf\n",
    "import pandas as pd\n",
    "import warnings\n",
    "warnings.filterwarnings('ignore')\n",
    "data = pd.read_csv('ner_dataset.csv')\n",
    "data.head(5)"
   ]
  },
  {
   "cell_type": "code",
   "execution_count": 2,
   "metadata": {},
   "outputs": [
    {
     "data": {
      "image/png": "[encoded data removed]",
      "text/plain": [
       "<Figure size 1600x800 with 1 Axes>"
      ]
     },
     "metadata": {},
     "output_type": "display_data"
    }
   ],
   "source": [
    "import matplotlib.pyplot as plt\n",
    "import  seaborn as sns\n",
    "\n",
    "plt.figure(figsize=(16, 8))\n",
    "sns.set()\n",
    "sns.histplot(data.Tag)\n",
    "plt.show()"
   ]
  },
  {
   "cell_type": "code",
   "execution_count": 40,
   "metadata": {},
   "outputs": [],
   "source": [
    "from itertools import chain\n",
    "def get_dict_map(data, token_or_tag):\n",
    "    tok2idx = {}\n",
    "    idx2tok = {}\n",
    "    if token_or_tag == 'token':\n",
    "        vocab = list(set(data.Word.to_list()))\n",
    "    else:\n",
    "        vocab = list(set(data.Tag.to_list()))\n",
    "    idx2tok = {idx:tok for idx, tok in enumerate(vocab)}\n",
    "    tok2idx = {tok:idx for idx, tok in enumerate(vocab)}\n",
    "    return tok2idx, idx2tok\n",
    "\n",
    "token2idx, idx2token = get_dict_map(data, 'token')\n",
    "tag2idx, idx2tag = get_dict_map(data, 'tag')\n"
   ]
  },
  {
   "cell_type": "code",
   "execution_count": 4,
   "metadata": {},
   "outputs": [],
   "source": [
    "data['Word_idx'] = data.Word.map(token2idx)\n",
    "data['Tag_idx'] = data.Tag.map(tag2idx)\n",
    "data_fillna = data.fillna(method='ffill', axis=0)\n",
    "data_group = data_fillna.groupby(\n",
    "    ['Sentence #'], as_index=False\n",
    ")['Word', 'POS', 'Tag', 'Word_idx', 'Tag_idx'].agg(lambda x: list(x))"
   ]
  },
  {
   "cell_type": "code",
   "execution_count": 5,
   "metadata": {},
   "outputs": [
    {
     "data": {
      "text/html": [
       "<div>\n",
       "<style scoped>\n",
       "    .dataframe tbody tr th:only-of-type {\n",
       "        vertical-align: middle;\n",
       "    }\n",
       "\n",
       "    .dataframe tbody tr th {\n",
       "        vertical-align: top;\n",
       "    }\n",
       "\n",
       "    .dataframe thead th {\n",
       "        text-align: right;\n",
       "    }\n",
       "</style>\n",
       "<table border=\"1\" class=\"dataframe\">\n",
       "  <thead>\n",
       "    <tr style=\"text-align: right;\">\n",
       "      <th></th>\n",
       "      <th>Unnamed: 0</th>\n",
       "      <th>Sentence #</th>\n",
       "      <th>Word</th>\n",
       "      <th>POS</th>\n",
       "      <th>Tag</th>\n",
       "      <th>Word_idx</th>\n",
       "      <th>Tag_idx</th>\n",
       "    </tr>\n",
       "  </thead>\n",
       "  <tbody>\n",
       "    <tr>\n",
       "      <th>0</th>\n",
       "      <td>0</td>\n",
       "      <td>Sentence: 1</td>\n",
       "      <td>Thousands</td>\n",
       "      <td>NNS</td>\n",
       "      <td>O</td>\n",
       "      <td>27893</td>\n",
       "      <td>8</td>\n",
       "    </tr>\n",
       "    <tr>\n",
       "      <th>1</th>\n",
       "      <td>1</td>\n",
       "      <td>NaN</td>\n",
       "      <td>of</td>\n",
       "      <td>IN</td>\n",
       "      <td>O</td>\n",
       "      <td>23700</td>\n",
       "      <td>8</td>\n",
       "    </tr>\n",
       "    <tr>\n",
       "      <th>2</th>\n",
       "      <td>2</td>\n",
       "      <td>NaN</td>\n",
       "      <td>demonstrators</td>\n",
       "      <td>NNS</td>\n",
       "      <td>O</td>\n",
       "      <td>6498</td>\n",
       "      <td>8</td>\n",
       "    </tr>\n",
       "    <tr>\n",
       "      <th>3</th>\n",
       "      <td>3</td>\n",
       "      <td>NaN</td>\n",
       "      <td>have</td>\n",
       "      <td>VBP</td>\n",
       "      <td>O</td>\n",
       "      <td>31836</td>\n",
       "      <td>8</td>\n",
       "    </tr>\n",
       "    <tr>\n",
       "      <th>4</th>\n",
       "      <td>4</td>\n",
       "      <td>NaN</td>\n",
       "      <td>marched</td>\n",
       "      <td>VBN</td>\n",
       "      <td>O</td>\n",
       "      <td>25034</td>\n",
       "      <td>8</td>\n",
       "    </tr>\n",
       "  </tbody>\n",
       "</table>\n",
       "</div>"
      ],
      "text/plain": [
       "   Unnamed: 0   Sentence #           Word  POS Tag  Word_idx  Tag_idx\n",
       "0           0  Sentence: 1      Thousands  NNS   O     27893        8\n",
       "1           1          NaN             of   IN   O     23700        8\n",
       "2           2          NaN  demonstrators  NNS   O      6498        8\n",
       "3           3          NaN           have  VBP   O     31836        8\n",
       "4           4          NaN        marched  VBN   O     25034        8"
      ]
     },
     "execution_count": 5,
     "metadata": {},
     "output_type": "execute_result"
    }
   ],
   "source": [
    "data.head(5)"
   ]
  },
  {
   "cell_type": "code",
   "execution_count": 6,
   "metadata": {},
   "outputs": [],
   "source": [
    "import numpy as np\n",
    "from sklearn.model_selection import train_test_split\n",
    "from tensorflow.keras.preprocessing.sequence import pad_sequences\n",
    "from tensorflow.keras.utils import to_categorical"
   ]
  },
  {
   "cell_type": "code",
   "execution_count": 7,
   "metadata": {},
   "outputs": [],
   "source": [
    "def get_pad_train_test_val(data_group, data):\n",
    "    n_tag = len(list(set(data.Word.to_list())))\n",
    "    n_tokens = len(list(set(data.Tag.to_list())))\n",
    "\n",
    "    tokens = data_group['Word_idx'].to_list()\n",
    "    maxlen = max([len(s) for s in tokens])\n",
    "    pad_tokens = pad_sequences(tokens, maxlen=maxlen, dtype='int32', padding='post', value=n_tokens-1)\n",
    "    tags = data_group['Tag_idx'].to_list()\n",
    "    pad_tags = pad_sequences(tags, maxlen=maxlen, dtype='int32', padding='post', value=tag2idx['O'])\n",
    "    n_tags = len(tag2idx)\n",
    "    pad_tags = [to_categorical(i, num_classes=n_tags) for i in pad_tags]\n",
    "    _tokens, test_tokens, _tags, test_tags = train_test_split(pad_tokens, pad_tags, test_size=0.1, train_size=0.9, random_state=420)\n",
    "    train_tokens, val_tokens, train_tags, val_tags = train_test_split(_tokens, _tags, test_size=0.2, train_size=0.8, random_state=420) \n",
    "    return train_tokens, val_tokens, test_tokens, train_tags, val_tags, test_tags                \n"
   ]
  },
  {
   "cell_type": "code",
   "execution_count": 8,
   "metadata": {},
   "outputs": [],
   "source": [
    "train_tokens, val_tokens, test_tokens, train_tags, val_tags, test_tags = get_pad_train_test_val(data_group, data)"
   ]
  },
  {
   "cell_type": "code",
   "execution_count": 9,
   "metadata": {},
   "outputs": [
    {
     "name": "stdout",
     "output_type": "stream",
     "text": [
      "train_tokens length: 34530 \n",
      "train_tokens length: 34530 \n",
      "test_tokens length: 4796 \n",
      "test_tags: 4796 \n",
      "val_tokens: 8633 \n",
      "val_tags: 8633\n"
     ]
    }
   ],
   "source": [
    "print(\n",
    "        'train_tokens length:', len(train_tokens),\n",
    "        '\\ntrain_tokens length:', len(train_tokens),\n",
    "        '\\ntest_tokens length:', len(test_tokens),\n",
    "        '\\ntest_tags:', len(test_tags),\n",
    "        '\\nval_tokens:', len(val_tokens),\n",
    "        '\\nval_tags:', len(val_tags),\n",
    "    )"
   ]
  },
  {
   "cell_type": "code",
   "execution_count": 10,
   "metadata": {},
   "outputs": [],
   "source": [
    "train_tags = np.array(train_tags)\n",
    "val_tags = np.array(val_tags)\n",
    "test_tags = np.array(test_tags)"
   ]
  },
  {
   "cell_type": "code",
   "execution_count": 11,
   "metadata": {},
   "outputs": [
    {
     "name": "stdout",
     "output_type": "stream",
     "text": [
      "Train Tags shape:  (34530, 104, 17)\n",
      "Val Tags shape:  (8633, 104, 17)\n",
      "Test Tags shape:  (4796, 104, 17)\n"
     ]
    }
   ],
   "source": [
    "print('Train Tags shape: ', train_tags.shape)\n",
    "print('Val Tags shape: ', val_tags.shape)\n",
    "print('Test Tags shape: ', test_tags.shape)"
   ]
  },
  {
   "cell_type": "code",
   "execution_count": 12,
   "metadata": {},
   "outputs": [
    {
     "name": "stdout",
     "output_type": "stream",
     "text": [
      "3591120\n",
      "(34530, 104) (34530, 104)\n"
     ]
    }
   ],
   "source": [
    "from sklearn.utils import class_weight\n",
    "\n",
    "train_temp_tags = np.ravel(np.argmax(train_tags, axis=-1))\n",
    "print(len(train_temp_tags))\n",
    "\n",
    "class_weights = class_weight.compute_class_weight(class_weight='balanced', classes=np.unique(train_temp_tags), y=train_temp_tags)\n",
    "class_weight_dict = dict(enumerate(class_weights))\n",
    "\n",
    "train_label = np.argmax(train_tags, axis=-1)\n",
    "print(train_tokens.shape, train_label.shape)"
   ]
  },
  {
   "cell_type": "code",
   "execution_count": 13,
   "metadata": {},
   "outputs": [
    {
     "name": "stdout",
     "output_type": "stream",
     "text": [
      "{0: 16.934612228729875, 1: 18.57565537646645, 2: 14.515381910339894, 3: 713.6565977742448, 4: 1408.2823529411764, 5: 7.8249501015400975, 6: 14.431093929578937, 7: 17.21335992023928, 8: 0.060780840650655185, 9: 39.834499894621246, 10: 45.59515496248143, 11: 922.4556896994605, 12: 5559.009287925696, 13: 1061.5193615134497, 14: 891.3179448994788, 15: 17.44651081443479, 16: 1446.8654311039484}\n"
     ]
    }
   ],
   "source": [
    "print(class_weight_dict)"
   ]
  },
  {
   "cell_type": "markdown",
   "metadata": {},
   "source": [
    "## Model and Training"
   ]
  },
  {
   "cell_type": "code",
   "execution_count": 14,
   "metadata": {},
   "outputs": [],
   "source": [
    "import numpy as np\n",
    "import tensorflow as tf\n",
    "from tensorflow.keras.models import Sequential, Model\n",
    "from tensorflow.keras.layers import LSTM, Embedding, Dense, TimeDistributed, Dropout, Bidirectional, Input\n",
    "from tensorflow.keras.utils import plot_model\n",
    "from numpy.random import seed\n",
    "seed(1)\n",
    "tf.random.set_seed(2)"
   ]
  },
  {
   "cell_type": "code",
   "execution_count": 26,
   "metadata": {},
   "outputs": [],
   "source": [
    "input_dim = len(list(set(data['Word'].to_list())))+1\n",
    "output_dim = 64\n",
    "input_length = max([len(s) for s in data_group['Word_idx'].tolist()])\n",
    "n_tags = len(tag2idx)"
   ]
  },
  {
   "cell_type": "code",
   "execution_count": 27,
   "metadata": {},
   "outputs": [],
   "source": [
    "model = Sequential()\n",
    "model.add(Embedding(input_dim=input_dim, output_dim=output_dim, input_length=input_length))\n",
    "model.add(Bidirectional(LSTM(units=output_dim, return_sequences=True, dropout=0.2, recurrent_dropout=0.2), merge_mode = 'concat'))\n",
    "model.add(LSTM(units=output_dim, return_sequences=True, dropout=0.5, recurrent_dropout=0.5))\n",
    "model.add(Dense(n_tags, activation='softmax'))\n",
    "    \n",
    "model.compile(loss='sparse_categorical_crossentropy', optimizer=tf.keras.optimizers.Adam(), metrics=['accuracy'])"
   ]
  },
  {
   "cell_type": "code",
   "execution_count": 28,
   "metadata": {},
   "outputs": [
    {
     "name": "stdout",
     "output_type": "stream",
     "text": [
      "(34530, 104)\n",
      "[[28.52779541 18.57565538 17.21335992 ... 28.52779541 28.52779541\n",
      "  28.52779541]\n",
      " [28.52779541 28.52779541 28.52779541 ... 28.52779541 28.52779541\n",
      "  28.52779541]\n",
      " [28.52779541 28.52779541 28.52779541 ... 28.52779541 28.52779541\n",
      "  28.52779541]\n",
      " ...\n",
      " [28.52779541 28.52779541 28.52779541 ... 28.52779541 28.52779541\n",
      "  28.52779541]\n",
      " [28.52779541 17.21335992 16.93461223 ... 28.52779541 28.52779541\n",
      "  28.52779541]\n",
      " [28.52779541 28.52779541 28.52779541 ... 28.52779541 28.52779541\n",
      "  28.52779541]]\n"
     ]
    }
   ],
   "source": [
    "maj_index = tag2idx['O']\n",
    "class_weight_dict[maj_index] = 28.5277954105731576\n",
    "\n",
    "sample_weights = np.ones(shape=(len(train_label), train_label.shape[-1]))\n",
    "for i in range(17):\n",
    "    sample_weights[train_label == i] = class_weight_dict.get(i)\n",
    "print(sample_weights.shape)\n",
    "print(sample_weights)"
   ]
  },
  {
   "cell_type": "code",
   "execution_count": 29,
   "metadata": {},
   "outputs": [
    {
     "name": "stdout",
     "output_type": "stream",
     "text": [
      "Model: \"sequential_1\"\n",
      "_________________________________________________________________\n",
      " Layer (type)                Output Shape              Param #   \n",
      "=================================================================\n",
      " embedding_3 (Embedding)     (None, 104, 64)           2251456   \n",
      "                                                                 \n",
      " bidirectional_2 (Bidirectio  (None, 104, 128)         66048     \n",
      " nal)                                                            \n",
      "                                                                 \n",
      " lstm_5 (LSTM)               (None, 104, 64)           49408     \n",
      "                                                                 \n",
      " dense_2 (Dense)             (None, 104, 17)           1105      \n",
      "                                                                 \n",
      "=================================================================\n",
      "Total params: 2,368,017\n",
      "Trainable params: 2,368,017\n",
      "Non-trainable params: 0\n",
      "_________________________________________________________________\n"
     ]
    }
   ],
   "source": [
    "model.summary()"
   ]
  },
  {
   "cell_type": "code",
   "execution_count": 30,
   "metadata": {},
   "outputs": [
    {
     "name": "stdout",
     "output_type": "stream",
     "text": [
      "Epoch 1/10\n",
      "432/432 [==============================] - ETA: 0s - loss: 6.5616 - accuracy: 0.9656WARNING:tensorflow:`evaluate()` received a value for `sample_weight`, but `weighted_metrics` were not provided.  Did you mean to pass metrics to `weighted_metrics` in `compile()`?  If this is intentional you can pass `weighted_metrics=[]` to `compile()` in order to silence this warning.\n",
      "432/432 [==============================] - 347s 784ms/step - loss: 6.5616 - accuracy: 0.9656 - val_loss: 3.6298 - val_accuracy: 0.9680\n",
      "Epoch 2/10\n",
      "432/432 [==============================] - ETA: 0s - loss: 3.0180 - accuracy: 0.9704WARNING:tensorflow:`evaluate()` received a value for `sample_weight`, but `weighted_metrics` were not provided.  Did you mean to pass metrics to `weighted_metrics` in `compile()`?  If this is intentional you can pass `weighted_metrics=[]` to `compile()` in order to silence this warning.\n",
      "432/432 [==============================] - 336s 777ms/step - loss: 3.0180 - accuracy: 0.9704 - val_loss: 2.9092 - val_accuracy: 0.9759\n",
      "Epoch 3/10\n",
      "432/432 [==============================] - ETA: 0s - loss: 2.4671 - accuracy: 0.9758WARNING:tensorflow:`evaluate()` received a value for `sample_weight`, but `weighted_metrics` were not provided.  Did you mean to pass metrics to `weighted_metrics` in `compile()`?  If this is intentional you can pass `weighted_metrics=[]` to `compile()` in order to silence this warning.\n",
      "432/432 [==============================] - 318s 736ms/step - loss: 2.4671 - accuracy: 0.9758 - val_loss: 2.5725 - val_accuracy: 0.9796\n",
      "Epoch 4/10\n",
      "432/432 [==============================] - ETA: 0s - loss: 1.9807 - accuracy: 0.9795WARNING:tensorflow:`evaluate()` received a value for `sample_weight`, but `weighted_metrics` were not provided.  Did you mean to pass metrics to `weighted_metrics` in `compile()`?  If this is intentional you can pass `weighted_metrics=[]` to `compile()` in order to silence this warning.\n",
      "432/432 [==============================] - 333s 772ms/step - loss: 1.9807 - accuracy: 0.9795 - val_loss: 2.3159 - val_accuracy: 0.9819\n",
      "Epoch 5/10\n",
      "432/432 [==============================] - ETA: 0s - loss: 1.5657 - accuracy: 0.9830WARNING:tensorflow:`evaluate()` received a value for `sample_weight`, but `weighted_metrics` were not provided.  Did you mean to pass metrics to `weighted_metrics` in `compile()`?  If this is intentional you can pass `weighted_metrics=[]` to `compile()` in order to silence this warning.\n",
      "432/432 [==============================] - 329s 761ms/step - loss: 1.5657 - accuracy: 0.9830 - val_loss: 2.3137 - val_accuracy: 0.9846\n",
      "Epoch 6/10\n",
      "432/432 [==============================] - ETA: 0s - loss: 1.3030 - accuracy: 0.9863WARNING:tensorflow:`evaluate()` received a value for `sample_weight`, but `weighted_metrics` were not provided.  Did you mean to pass metrics to `weighted_metrics` in `compile()`?  If this is intentional you can pass `weighted_metrics=[]` to `compile()` in order to silence this warning.\n",
      "432/432 [==============================] - 311s 719ms/step - loss: 1.3030 - accuracy: 0.9863 - val_loss: 2.0198 - val_accuracy: 0.9867\n",
      "Epoch 7/10\n",
      "432/432 [==============================] - ETA: 0s - loss: 1.0624 - accuracy: 0.9888WARNING:tensorflow:`evaluate()` received a value for `sample_weight`, but `weighted_metrics` were not provided.  Did you mean to pass metrics to `weighted_metrics` in `compile()`?  If this is intentional you can pass `weighted_metrics=[]` to `compile()` in order to silence this warning.\n",
      "432/432 [==============================] - 303s 701ms/step - loss: 1.0624 - accuracy: 0.9888 - val_loss: 2.0759 - val_accuracy: 0.9885\n",
      "Epoch 8/10\n",
      "432/432 [==============================] - ETA: 0s - loss: 0.8878 - accuracy: 0.9904WARNING:tensorflow:`evaluate()` received a value for `sample_weight`, but `weighted_metrics` were not provided.  Did you mean to pass metrics to `weighted_metrics` in `compile()`?  If this is intentional you can pass `weighted_metrics=[]` to `compile()` in order to silence this warning.\n",
      "432/432 [==============================] - 302s 700ms/step - loss: 0.8878 - accuracy: 0.9904 - val_loss: 1.9717 - val_accuracy: 0.9890\n",
      "Epoch 9/10\n",
      "432/432 [==============================] - ETA: 0s - loss: 0.7674 - accuracy: 0.9913WARNING:tensorflow:`evaluate()` received a value for `sample_weight`, but `weighted_metrics` were not provided.  Did you mean to pass metrics to `weighted_metrics` in `compile()`?  If this is intentional you can pass `weighted_metrics=[]` to `compile()` in order to silence this warning.\n",
      "432/432 [==============================] - 302s 699ms/step - loss: 0.7674 - accuracy: 0.9913 - val_loss: 1.9580 - val_accuracy: 0.9895\n",
      "Epoch 10/10\n",
      "432/432 [==============================] - ETA: 0s - loss: 0.6830 - accuracy: 0.9919WARNING:tensorflow:`evaluate()` received a value for `sample_weight`, but `weighted_metrics` were not provided.  Did you mean to pass metrics to `weighted_metrics` in `compile()`?  If this is intentional you can pass `weighted_metrics=[]` to `compile()` in order to silence this warning.\n",
      "432/432 [==============================] - 302s 700ms/step - loss: 0.6830 - accuracy: 0.9919 - val_loss: 2.2301 - val_accuracy: 0.9899\n"
     ]
    }
   ],
   "source": [
    "history = model.fit(train_tokens, train_label, batch_size=64, epochs=10, validation_split=0.2, sample_weight=sample_weights)"
   ]
  },
  {
   "cell_type": "code",
   "execution_count": 34,
   "metadata": {},
   "outputs": [],
   "source": [
    "model.save('ner_model.h5')\n",
    "model = tf.keras.models.load_model('ner_model.h5')"
   ]
  },
  {
   "cell_type": "code",
   "execution_count": 35,
   "metadata": {},
   "outputs": [
    {
     "name": "stdout",
     "output_type": "stream",
     "text": [
      "150/150 [==============================] - 6s 32ms/step - loss: 0.0380 - accuracy: 0.9899\n"
     ]
    },
    {
     "data": {
      "text/plain": [
       "[0.03803587704896927, 0.9899435639381409]"
      ]
     },
     "execution_count": 35,
     "metadata": {},
     "output_type": "execute_result"
    }
   ],
   "source": [
    "y_test = np.argmax(test_tags, axis=-1)\n",
    "model.evaluate(test_tokens, y_test)"
   ]
  },
  {
   "cell_type": "code",
   "execution_count": 49,
   "metadata": {},
   "outputs": [],
   "source": [
    "def predict(seed):\n",
    "    query = test_tokens[seed]\n",
    "    query_text = []\n",
    "    for i in query.tolist():\n",
    "        query_text.append(idx2token.get(i))\n",
    "    print('Query: ',' '.join(query_text[:10]))\n",
    "    ans = y_test[seed]\n",
    "    ans_text = []\n",
    "    for i in ans.tolist():\n",
    "        ans_text.append(idx2tag.get(i))\n",
    "    print('Tag_Text: ',' '.join(ans_text[:10]))\n",
    "    query = query.reshape(1,-1)\n",
    "    pred = model.predict(query)\n",
    "    pred = np.ravel(np.argmax(pred, axis=-1))\n",
    "    pred_list = []\n",
    "    for i in pred.tolist():\n",
    "        pred_list.append(idx2tag.get(i))\n",
    "    print('Prediction_Text: ',' '.join(pred_list[:10]))\n",
    "    print()\n",
    "    print()\n",
    "    rep_qr = []\n",
    "    for q, r_tag in zip(query_text[:10], ans_text[:10]):\n",
    "        rep_qr.append(q)\n",
    "        rep_qr.append('['+r_tag+']')\n",
    "    print('Actual_NER: ',' '.join(rep_qr),'....')\n",
    "    print()\n",
    "    rep_qp = []\n",
    "    for q, r_tag in zip(query_text[:10], pred_list[:10]):\n",
    "        rep_qp.append(q)\n",
    "        rep_qp.append('['+r_tag+']')\n",
    "    print()\n",
    "    print()\n",
    "    print('Predicted_NER: ',' '.join(rep_qp))"
   ]
  },
  {
   "cell_type": "code",
   "execution_count": 50,
   "metadata": {},
   "outputs": [
    {
     "name": "stdout",
     "output_type": "stream",
     "text": [
      "Query:  Steele was commander of Camp Cropper prison , which holds\n",
      "Tag_Text:  B-per O O O B-geo I-geo O O O O\n",
      "1/1 [==============================] - 0s 43ms/step\n",
      "Prediction_Text:  B-per O O O B-org I-geo O O O O\n",
      "\n",
      "\n",
      "Actual_NER:  Steele [B-per] was [O] commander [O] of [O] Camp [B-geo] Cropper [I-geo] prison [O] , [O] which [O] holds [O] ....\n",
      "\n",
      "\n",
      "\n",
      "Predicted_NER:  Steele [B-per] was [O] commander [O] of [O] Camp [B-org] Cropper [I-geo] prison [O] , [O] which [O] holds [O]\n"
     ]
    }
   ],
   "source": [
    "seed = 1\n",
    "predict(seed)"
   ]
  },
  {
   "cell_type": "code",
   "execution_count": null,
   "metadata": {},
   "outputs": [],
   "source": []
  }
 ],
 "metadata": {
  "colab": {
   "name": "NameEnitityRecognition.ipynb",
   "provenance": []
  },
  "kernelspec": {
   "display_name": "Python 3 (ipykernel)",
   "language": "python",
   "name": "python3"
  },
  "language_info": {
   "codemirror_mode": {
    "name": "ipython",
    "version": 3
   },
   "file_extension": ".py",
   "mimetype": "text/x-python",
   "name": "python",
   "nbconvert_exporter": "python",
   "pygments_lexer": "ipython3",
   "version": "3.10.8"
  }
 },
 "nbformat": 4,
 "nbformat_minor": 1
}
